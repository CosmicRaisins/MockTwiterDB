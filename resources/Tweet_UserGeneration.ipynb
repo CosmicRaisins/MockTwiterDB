{
 "cells": [
  {
   "cell_type": "code",
   "execution_count": null,
   "metadata": {},
   "outputs": [],
   "source": [
    "import random\n",
    "import pandas as pd\n",
    "import numpy as np\n",
    "import time\n",
    "from faker import Faker\n",
    "from datetime import datetime"
   ]
  },
  {
   "cell_type": "markdown",
   "metadata": {},
   "source": [
    "Word Banks"
   ]
  },
  {
   "cell_type": "code",
   "execution_count": null,
   "metadata": {},
   "outputs": [],
   "source": [
    "verb = (\"eat\", \"breathe\", \"see\", \"drive\", \"swim\", \"run\", \"walk\", \"use\", \"hurt\",\n",
    "        \"throw\", \"break\", \"draw\", \"drag\", \"speak\", \"hear\", \"smell\", \"sing\")\n",
    "noun = (\"glass\", \"body\", \"meat\", \"wood\", \"vegetables\", \"car\", \"brick\", \"sand\",\n",
    "       \"water\", \"paper\", \"textbook\", \"tiger\", \"light\", \"wine\", \"ice\", \"soup\", \"raisins\")\n",
    "adjective = (\"cosmic\", \"average\", \"avuncular\", \"normal\", \"shininy\", \"white\", \"red\",\n",
    "            \"electrice\", \"heavy\", \"light\", \"thin\", \"juicy\", \"tasty\", \"beautiful\")"
   ]
  },
  {
   "cell_type": "markdown",
   "metadata": {},
   "source": [
    "Tweet Content Generater"
   ]
  },
  {
   "cell_type": "code",
   "execution_count": null,
   "metadata": {},
   "outputs": [],
   "source": [
    "def makeTweet():\n",
    "    return \"I can \" + random.choice(verb) + \" \" + random.choice(noun) + \" it doesnt \" + random.choice(verb) + \" me.\""
   ]
  },
  {
   "cell_type": "code",
   "execution_count": null,
   "metadata": {},
   "outputs": [],
   "source": [
    "start_time = time.time()\n",
    "\n",
    "result = []\n",
    "for i in range(1000000):\n",
    "    result.append(makeTweet())\n",
    "    \n",
    "print(\"Generating tweets took %s seconds\" % (time.time() - start_time))"
   ]
  },
  {
   "cell_type": "markdown",
   "metadata": {},
   "source": [
    "User Generater"
   ]
  },
  {
   "cell_type": "code",
   "execution_count": null,
   "metadata": {},
   "outputs": [],
   "source": [
    "users = []\n",
    "for i in range(200):\n",
    "    users.append(random.choice(adjective).capitalize() + random.choice(noun).capitalize() + str(random.randint(1000, 9999))) "
   ]
  },
  {
   "cell_type": "code",
   "execution_count": null,
   "metadata": {},
   "outputs": [],
   "source": [
    "nums = []  \n",
    "mu = 50\n",
    "sigma = 10\n",
    "    \n",
    "for i in range(200):\n",
    "    temp = int(random.gauss(mu, sigma))  \n",
    "    if temp < 0:\n",
    "        nums.append(0)\n",
    "    else:\n",
    "        nums.append(temp)"
   ]
  },
  {
   "cell_type": "code",
   "execution_count": null,
   "metadata": {},
   "outputs": [],
   "source": [
    "pair = []\n",
    "u1 = users.copy()\n",
    "for i in range(200):\n",
    "    u2 = users.copy()\n",
    "    x = 199\n",
    "    for j in range(nums[i]):\n",
    "        pair.append([u1[i], u2.pop(random.randint(1, x))])\n",
    "        x -= 1"
   ]
  },
  {
   "cell_type": "code",
   "execution_count": null,
   "metadata": {},
   "outputs": [],
   "source": [
    "np.savetxt(\"followers.csv\",\n",
    "          pair,\n",
    "          delimiter = \",\",\n",
    "          fmt = \"%s\")"
   ]
  },
  {
   "cell_type": "code",
   "execution_count": null,
   "metadata": {},
   "outputs": [],
   "source": [
    "def randdate(year1, year2):\n",
    "    return str(random.randint(year1, year2)) + \"-\" + str(random.randint(1, 12)) + \"-\" + str(random.randint(1, 28))"
   ]
  },
  {
   "cell_type": "code",
   "execution_count": null,
   "metadata": {},
   "outputs": [],
   "source": [
    "faker = Faker()"
   ]
  },
  {
   "cell_type": "code",
   "execution_count": null,
   "metadata": {},
   "outputs": [],
   "source": [
    "faker.date_time_between(start_date='-2y', end_date='now', tzinfo=None).strftime(\"%Y-%m-%d %H:%M:%S\")"
   ]
  },
  {
   "cell_type": "code",
   "execution_count": null,
   "metadata": {},
   "outputs": [],
   "source": [
    "tweets = []\n",
    "tweetid = 0\n",
    "for j in u1:\n",
    "    for i in range(5000):\n",
    "        tweets.append([tweetid, j, faker.date_time_between(start_date='-2y', end_date='now', tzinfo=None).strftime(\"%Y-%m-%d %H:%M:%S\"), makeTweet()])\n",
    "        tweetid +=1"
   ]
  },
  {
   "cell_type": "code",
   "execution_count": null,
   "metadata": {},
   "outputs": [],
   "source": [
    "np.savetxt(\"tweets.csv\",\n",
    "          tweets,\n",
    "          delimiter = \",\",\n",
    "          fmt = \"% s\")"
   ]
  }
 ],
 "metadata": {
  "kernelspec": {
   "display_name": "Python 3",
   "language": "python",
   "name": "python3"
  },
  "language_info": {
   "codemirror_mode": {
    "name": "ipython",
    "version": 3
   },
   "file_extension": ".py",
   "mimetype": "text/x-python",
   "name": "python",
   "nbconvert_exporter": "python",
   "pygments_lexer": "ipython3",
   "version": "3.6.9"
  }
 },
 "nbformat": 4,
 "nbformat_minor": 4
}
